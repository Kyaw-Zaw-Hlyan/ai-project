{
  "cells": [
    {
      "cell_type": "markdown",
      "source": [
        "## Importing necessary Libraries"
      ],
      "metadata": {
        "id": "aYJMTLjDgSef"
      }
    },
    {
      "cell_type": "code",
      "execution_count": null,
      "metadata": {
        "id": "AZqzmlbh7y0M"
      },
      "outputs": [],
      "source": [
        "import pandas as pd\n",
        "from sklearn.neighbors import NearestNeighbors\n",
        "import numpy as np"
      ]
    },
    {
      "cell_type": "markdown",
      "source": [
        "##Reading Excel file and show it in dataframe"
      ],
      "metadata": {
        "id": "aO4-lNEqgnMA"
      }
    },
    {
      "cell_type": "code",
      "execution_count": null,
      "metadata": {
        "colab": {
          "base_uri": "https://localhost:8080/"
        },
        "id": "l937e6R8_r1d",
        "outputId": "68589aee-018c-4747-fbcd-f65b33764379"
      },
      "outputs": [
        {
          "name": "stdout",
          "output_type": "stream",
          "text": [
            "Original DataFrame:\n",
            "                            Material  Modulus of Elasticity (GPA)  \\\n",
            "0                              Epoxy                        2.410   \n",
            "1                  Polycarbonate(PC)                        2.380   \n",
            "2                          Nylon 6,6                        2.690   \n",
            "3                           Phenolic                        3.795   \n",
            "4               Polyester(thermoset)                        3.240   \n",
            "5                               LDPE                        0.230   \n",
            "6                               HDPE                        1.080   \n",
            "7                  Polypropylene(PP)                        1.350   \n",
            "8                    Polystyrene(PS)                        2.780   \n",
            "9      Polytetrafluoroethylene(PTFE)                        0.480   \n",
            "10          Polyvinyl chloride (PVC)                        3.280   \n",
            "11  Polybutylene terephthalate (PBT)                        2.470   \n",
            "12  Polyethylene terephthalate (PET)                        3.450   \n",
            "13                              PMMA                        2.740   \n",
            "\n",
            "    Coefficient of Thermal Expansion  Tensile Strength(MPA)  \\\n",
            "0                               99.0                  58.80   \n",
            "1                              122.0                  67.60   \n",
            "2                              144.0                  94.50   \n",
            "3                              122.0                  34.50   \n",
            "4                              140.0                  65.55   \n",
            "5                              290.0                  19.85   \n",
            "6                              152.0                  26.55   \n",
            "7                              163.0                  36.20   \n",
            "8                              120.0                  43.80   \n",
            "9                              171.0                  27.60   \n",
            "10                             135.0                  46.20   \n",
            "11                             139.5                  58.30   \n",
            "12                             117.0                  60.35   \n",
            "13                             126.0                  60.35   \n",
            "\n",
            "    Thermal Conductivity (W/m-K)  Specific Heat(J/kg-K)  Density(g/cm^3)  \\\n",
            "0                           0.19                   1050            1.260   \n",
            "1                           0.20                    840            1.200   \n",
            "2                           0.24                   1670            1.140   \n",
            "3                           0.15                   1675            1.280   \n",
            "4                           0.17                    815            1.250   \n",
            "5                           0.33                   2300            0.925   \n",
            "6                           0.48                   1850            0.959   \n",
            "7                           0.12                   1925            0.905   \n",
            "8                           0.13                   1170            1.050   \n",
            "9                           0.25                   1050            2.170   \n",
            "10                          0.18                   1255            1.440   \n",
            "11                          0.24                   1735            1.340   \n",
            "12                          0.15                   1170            1.350   \n",
            "13                          0.21                   1460            1.190   \n",
            "\n",
            "    Cost(Raw)$/kg  \n",
            "0             1.9  \n",
            "1             2.9  \n",
            "2             2.8  \n",
            "3             1.4  \n",
            "4             2.7  \n",
            "5             1.3  \n",
            "6             1.2  \n",
            "7             1.2  \n",
            "8             1.4  \n",
            "9            11.9  \n",
            "10            1.2  \n",
            "11            4.3  \n",
            "12            1.3  \n",
            "13            3.1  \n"
          ]
        }
      ],
      "source": [
        "origin_df = pd.read_excel(\"/content/drive/MyDrive/2nd year/tri 3/AI/project/polymers.xlsx\")\n",
        "print(\"Original DataFrame:\")\n",
        "print(origin_df) #display the original data frame"
      ]
    },
    {
      "cell_type": "code",
      "execution_count": null,
      "metadata": {
        "colab": {
          "base_uri": "https://localhost:8080/"
        },
        "id": "nJXHNvZbEPLQ",
        "outputId": "c9f170ff-3290-4726-f830-177fc0363d6e"
      },
      "outputs": [
        {
          "name": "stdout",
          "output_type": "stream",
          "text": [
            "Properties of Polymers\n",
            "['Modulus of Elasticity (GPA)', 'Coefficient of Thermal Expansion', 'Tensile Strength(MPA)', 'Thermal Conductivity (W/m-K)', 'Specific Heat(J/kg-K)', 'Density(g/cm^3)', 'Cost(Raw)$/kg']\n"
          ]
        }
      ],
      "source": [
        "column_names = origin_df.columns.tolist()\n",
        "\n",
        "# Exclude the first column\n",
        "properties = column_names[1:]\n",
        "print('Properties of Polymers')\n",
        "print(properties)"
      ]
    },
    {
      "cell_type": "markdown",
      "source": [
        "##getting user input and appending it in original dataframe"
      ],
      "metadata": {
        "id": "BArgk67Cg0DX"
      }
    },
    {
      "cell_type": "code",
      "execution_count": null,
      "metadata": {
        "colab": {
          "base_uri": "https://localhost:8080/"
        },
        "id": "zn1AenzLAFJt",
        "outputId": "bf8f2e58-d858-4d18-fb6e-576915a08323"
      },
      "outputs": [
        {
          "name": "stdout",
          "output_type": "stream",
          "text": [
            "Modulus of Elasticity (GPA) (or press Enter to skip): \n",
            "Coefficient of Thermal Expansion (or press Enter to skip): 145\n",
            "Tensile Strength(MPA) (or press Enter to skip): 90\n",
            "Thermal Conductivity (W/m-K) (or press Enter to skip): 0.25\n",
            "Specific Heat(J/kg-K) (or press Enter to skip): 1600\n",
            "Density(g/cm^3) (or press Enter to skip): 1.1\n",
            "Cost(Raw)$/kg (or press Enter to skip): 2.5\n",
            "                            Material  Modulus of Elasticity (GPA)  \\\n",
            "0                              Epoxy                        2.410   \n",
            "1                  Polycarbonate(PC)                        2.380   \n",
            "2                          Nylon 6,6                        2.690   \n",
            "3                           Phenolic                        3.795   \n",
            "4               Polyester(thermoset)                        3.240   \n",
            "5                               LDPE                        0.230   \n",
            "6                               HDPE                        1.080   \n",
            "7                  Polypropylene(PP)                        1.350   \n",
            "8                    Polystyrene(PS)                        2.780   \n",
            "9      Polytetrafluoroethylene(PTFE)                        0.480   \n",
            "10          Polyvinyl chloride (PVC)                        3.280   \n",
            "11  Polybutylene terephthalate (PBT)                        2.470   \n",
            "12  Polyethylene terephthalate (PET)                        3.450   \n",
            "13                              PMMA                        2.740   \n",
            "14                   user_properties                          NaN   \n",
            "\n",
            "   Coefficient of Thermal Expansion Tensile Strength(MPA)  \\\n",
            "0                              99.0                  58.8   \n",
            "1                             122.0                  67.6   \n",
            "2                             144.0                  94.5   \n",
            "3                             122.0                  34.5   \n",
            "4                             140.0                 65.55   \n",
            "5                             290.0                 19.85   \n",
            "6                             152.0                 26.55   \n",
            "7                             163.0                  36.2   \n",
            "8                             120.0                  43.8   \n",
            "9                             171.0                  27.6   \n",
            "10                            135.0                  46.2   \n",
            "11                            139.5                  58.3   \n",
            "12                            117.0                 60.35   \n",
            "13                            126.0                 60.35   \n",
            "14                              145                    90   \n",
            "\n",
            "   Thermal Conductivity (W/m-K) Specific Heat(J/kg-K) Density(g/cm^3)  \\\n",
            "0                          0.19                  1050            1.26   \n",
            "1                           0.2                   840             1.2   \n",
            "2                          0.24                  1670            1.14   \n",
            "3                          0.15                  1675            1.28   \n",
            "4                          0.17                   815            1.25   \n",
            "5                          0.33                  2300           0.925   \n",
            "6                          0.48                  1850           0.959   \n",
            "7                          0.12                  1925           0.905   \n",
            "8                          0.13                  1170            1.05   \n",
            "9                          0.25                  1050            2.17   \n",
            "10                         0.18                  1255            1.44   \n",
            "11                         0.24                  1735            1.34   \n",
            "12                         0.15                  1170            1.35   \n",
            "13                         0.21                  1460            1.19   \n",
            "14                         0.25                  1600             1.1   \n",
            "\n",
            "   Cost(Raw)$/kg  \n",
            "0            1.9  \n",
            "1            2.9  \n",
            "2            2.8  \n",
            "3            1.4  \n",
            "4            2.7  \n",
            "5            1.3  \n",
            "6            1.2  \n",
            "7            1.2  \n",
            "8            1.4  \n",
            "9           11.9  \n",
            "10           1.2  \n",
            "11           4.3  \n",
            "12           1.3  \n",
            "13           3.1  \n",
            "14           2.5  \n"
          ]
        }
      ],
      "source": [
        "user_input_dict = {\"Material\": \"user_properties\"} # Dictionary to store user inputs\n",
        "for prop in properties:\n",
        "  user_properties = input(f\"{prop} (or press Enter to skip): \")\n",
        "  if user_properties == \"\":\n",
        "    continue\n",
        "  user_input_dict[prop] = user_properties\n",
        "\n",
        "user_input_df = pd.DataFrame([user_input_dict]) # Convert the dictionary to a DataFrame\n",
        "\n",
        "new_df = pd.concat([origin_df, user_input_df], ignore_index=True) # Append the new DataFrame to the original DataFrame\n",
        "print(new_df)"
      ]
    },
    {
      "cell_type": "markdown",
      "source": [
        "##data cleaning"
      ],
      "metadata": {
        "id": "8G0VqAiFhStr"
      }
    },
    {
      "cell_type": "code",
      "execution_count": null,
      "metadata": {
        "colab": {
          "base_uri": "https://localhost:8080/"
        },
        "id": "8Ps4R3E_Rm6p",
        "outputId": "a5c3fd47-6f32-498d-906b-c4b3b02e323b"
      },
      "outputs": [
        {
          "name": "stdout",
          "output_type": "stream",
          "text": [
            "Cleaned DataFrame:\n",
            "                            Material Coefficient of Thermal Expansion  \\\n",
            "0                              Epoxy                             99.0   \n",
            "1                  Polycarbonate(PC)                            122.0   \n",
            "2                          Nylon 6,6                            144.0   \n",
            "3                           Phenolic                            122.0   \n",
            "4               Polyester(thermoset)                            140.0   \n",
            "5                               LDPE                            290.0   \n",
            "6                               HDPE                            152.0   \n",
            "7                  Polypropylene(PP)                            163.0   \n",
            "8                    Polystyrene(PS)                            120.0   \n",
            "9      Polytetrafluoroethylene(PTFE)                            171.0   \n",
            "10          Polyvinyl chloride (PVC)                            135.0   \n",
            "11  Polybutylene terephthalate (PBT)                            139.5   \n",
            "12  Polyethylene terephthalate (PET)                            117.0   \n",
            "13                              PMMA                            126.0   \n",
            "14                   user_properties                            145.0   \n",
            "\n",
            "   Tensile Strength(MPA) Thermal Conductivity (W/m-K) Specific Heat(J/kg-K)  \\\n",
            "0                   58.8                         0.19                1050.0   \n",
            "1                   67.6                          0.2                 840.0   \n",
            "2                   94.5                         0.24                1670.0   \n",
            "3                   34.5                         0.15                1675.0   \n",
            "4                  65.55                         0.17                 815.0   \n",
            "5                  19.85                         0.33                2300.0   \n",
            "6                  26.55                         0.48                1850.0   \n",
            "7                   36.2                         0.12                1925.0   \n",
            "8                   43.8                         0.13                1170.0   \n",
            "9                   27.6                         0.25                1050.0   \n",
            "10                  46.2                         0.18                1255.0   \n",
            "11                  58.3                         0.24                1735.0   \n",
            "12                 60.35                         0.15                1170.0   \n",
            "13                 60.35                         0.21                1460.0   \n",
            "14                  90.0                         0.25                1600.0   \n",
            "\n",
            "   Density(g/cm^3) Cost(Raw)$/kg  \n",
            "0             1.26           1.9  \n",
            "1              1.2           2.9  \n",
            "2             1.14           2.8  \n",
            "3             1.28           1.4  \n",
            "4             1.25           2.7  \n",
            "5            0.925           1.3  \n",
            "6            0.959           1.2  \n",
            "7            0.905           1.2  \n",
            "8             1.05           1.4  \n",
            "9             2.17          11.9  \n",
            "10            1.44           1.2  \n",
            "11            1.34           4.3  \n",
            "12            1.35           1.3  \n",
            "13            1.19           3.1  \n",
            "14             1.1           2.5  \n"
          ]
        }
      ],
      "source": [
        "clean_df = new_df.dropna(axis=1) # Drop columns with NaN values\n",
        "\n",
        "# Convert all numbers in columns (except the first column) to float values\n",
        "def convert_to_float(value):\n",
        "    try:\n",
        "        return float(value)\n",
        "    except ValueError:\n",
        "        return value\n",
        "\n",
        "clean_df.iloc[:, 1:] = clean_df.iloc[:, 1:].applymap(convert_to_float)\n",
        "\n",
        "# Display the updated DataFrame\n",
        "print(\"Cleaned DataFrame:\")\n",
        "print(clean_df)"
      ]
    },
    {
      "cell_type": "markdown",
      "source": [
        "##normalizing the data within the range of 0 and 1"
      ],
      "metadata": {
        "id": "k0QwLGf4hmgS"
      }
    },
    {
      "cell_type": "code",
      "execution_count": 57,
      "metadata": {
        "colab": {
          "base_uri": "https://localhost:8080/"
        },
        "id": "yzMYeYPbMx3X",
        "outputId": "bbf97bfc-40b6-413e-94cd-736fc724c014"
      },
      "outputs": [
        {
          "output_type": "stream",
          "name": "stdout",
          "text": [
            "\n",
            "Normalized DataFrame:\n",
            "                            Material Coefficient of Thermal Expansion  \\\n",
            "0                              Epoxy                              0.0   \n",
            "1                  Polycarbonate(PC)                         0.120419   \n",
            "2                          Nylon 6,6                         0.235602   \n",
            "3                           Phenolic                         0.120419   \n",
            "4               Polyester(thermoset)                          0.21466   \n",
            "5                               LDPE                              1.0   \n",
            "6                               HDPE                         0.277487   \n",
            "7                  Polypropylene(PP)                         0.335079   \n",
            "8                    Polystyrene(PS)                         0.109948   \n",
            "9      Polytetrafluoroethylene(PTFE)                         0.376963   \n",
            "10          Polyvinyl chloride (PVC)                         0.188482   \n",
            "11  Polybutylene terephthalate (PBT)                         0.212042   \n",
            "12  Polyethylene terephthalate (PET)                         0.094241   \n",
            "13                              PMMA                         0.141361   \n",
            "14                   user_properties                         0.240838   \n",
            "\n",
            "   Tensile Strength(MPA) Thermal Conductivity (W/m-K) Specific Heat(J/kg-K)  \\\n",
            "0               0.521768                     0.194444              0.158249   \n",
            "1               0.639652                     0.222222              0.016835   \n",
            "2                    1.0                     0.333333              0.575758   \n",
            "3               0.196249                     0.083333              0.579125   \n",
            "4                0.61219                     0.138889                   0.0   \n",
            "5                    0.0                     0.583333                   1.0   \n",
            "6               0.089752                          1.0               0.69697   \n",
            "7               0.219022                          0.0              0.747475   \n",
            "8               0.320831                     0.027778              0.239057   \n",
            "9               0.103818                     0.361111              0.158249   \n",
            "10              0.352981                     0.166667              0.296296   \n",
            "11               0.51507                     0.333333              0.619529   \n",
            "12              0.542532                     0.083333              0.239057   \n",
            "13              0.542532                         0.25              0.434343   \n",
            "14              0.939719                     0.361111               0.52862   \n",
            "\n",
            "   Density(g/cm^3) Cost(Raw)$/kg  \n",
            "0         0.280632      0.065421  \n",
            "1         0.233202      0.158879  \n",
            "2         0.185771      0.149533  \n",
            "3         0.296443      0.018692  \n",
            "4         0.272727      0.140187  \n",
            "5          0.01581      0.009346  \n",
            "6         0.042688           0.0  \n",
            "7              0.0           0.0  \n",
            "8         0.114625      0.018692  \n",
            "9              1.0           1.0  \n",
            "10        0.422925           0.0  \n",
            "11        0.343874       0.28972  \n",
            "12        0.351779      0.009346  \n",
            "13        0.225296       0.17757  \n",
            "14         0.15415      0.121495  \n"
          ]
        }
      ],
      "source": [
        "material_names = clean_df.iloc[:, 0] # Extract material names column from the original DataFrame\n",
        "\n",
        "numeric_df = clean_df.iloc[:, 1:] # Select the remaining numeric columns for normalization\n",
        "\n",
        "# Normalize the numeric data using Min-Max scaling\n",
        "normalized_df = (numeric_df - numeric_df.min()) / (numeric_df.max() - numeric_df.min())\n",
        "#print(normalized_df)\n",
        "\n",
        "# Combine the material names with the normalized numeric data\n",
        "df = pd.concat([material_names, normalized_df], axis=1)\n",
        "\n",
        "# Display the normalized DataFrame\n",
        "print(\"\\nNormalized DataFrame:\")\n",
        "print(df)"
      ]
    },
    {
      "cell_type": "markdown",
      "source": [
        "##calculating euclidean distances"
      ],
      "metadata": {
        "id": "qm-M057Ahymh"
      }
    },
    {
      "cell_type": "code",
      "execution_count": 59,
      "metadata": {
        "colab": {
          "base_uri": "https://localhost:8080/"
        },
        "id": "XA26iFazAkTI",
        "outputId": "2b669bc2-a7fc-446b-a6e4-0695d30c7478"
      },
      "outputs": [
        {
          "output_type": "stream",
          "name": "stdout",
          "text": [
            "Euclidean Distances:\n",
            "[0.6455846  0.62721689 0.09187384 0.8232707  0.67170783 1.32766575\n",
            " 1.08972107 0.86319589 0.77925802 1.53025064 0.72511133 0.5044659\n",
            " 0.62601069 0.44395135]\n",
            "Updated DataFrame:\n",
            "                            Material Coefficient of Thermal Expansion  \\\n",
            "0                              Epoxy                              0.0   \n",
            "1                  Polycarbonate(PC)                         0.120419   \n",
            "2                          Nylon 6,6                         0.235602   \n",
            "3                           Phenolic                         0.120419   \n",
            "4               Polyester(thermoset)                          0.21466   \n",
            "5                               LDPE                              1.0   \n",
            "6                               HDPE                         0.277487   \n",
            "7                  Polypropylene(PP)                         0.335079   \n",
            "8                    Polystyrene(PS)                         0.109948   \n",
            "9      Polytetrafluoroethylene(PTFE)                         0.376963   \n",
            "10          Polyvinyl chloride (PVC)                         0.188482   \n",
            "11  Polybutylene terephthalate (PBT)                         0.212042   \n",
            "12  Polyethylene terephthalate (PET)                         0.094241   \n",
            "13                              PMMA                         0.141361   \n",
            "14                   user_properties                         0.240838   \n",
            "\n",
            "   Tensile Strength(MPA) Thermal Conductivity (W/m-K) Specific Heat(J/kg-K)  \\\n",
            "0               0.521768                     0.194444              0.158249   \n",
            "1               0.639652                     0.222222              0.016835   \n",
            "2                    1.0                     0.333333              0.575758   \n",
            "3               0.196249                     0.083333              0.579125   \n",
            "4                0.61219                     0.138889                   0.0   \n",
            "5                    0.0                     0.583333                   1.0   \n",
            "6               0.089752                          1.0               0.69697   \n",
            "7               0.219022                          0.0              0.747475   \n",
            "8               0.320831                     0.027778              0.239057   \n",
            "9               0.103818                     0.361111              0.158249   \n",
            "10              0.352981                     0.166667              0.296296   \n",
            "11               0.51507                     0.333333              0.619529   \n",
            "12              0.542532                     0.083333              0.239057   \n",
            "13              0.542532                         0.25              0.434343   \n",
            "14              0.939719                     0.361111               0.52862   \n",
            "\n",
            "   Density(g/cm^3) Cost(Raw)$/kg  Euclidean Distance  \n",
            "0         0.280632      0.065421            0.645585  \n",
            "1         0.233202      0.158879            0.627217  \n",
            "2         0.185771      0.149533            0.091874  \n",
            "3         0.296443      0.018692            0.823271  \n",
            "4         0.272727      0.140187            0.671708  \n",
            "5          0.01581      0.009346            1.327666  \n",
            "6         0.042688           0.0            1.089721  \n",
            "7              0.0           0.0            0.863196  \n",
            "8         0.114625      0.018692            0.779258  \n",
            "9              1.0           1.0            1.530251  \n",
            "10        0.422925           0.0            0.725111  \n",
            "11        0.343874       0.28972            0.504466  \n",
            "12        0.351779      0.009346            0.626011  \n",
            "13        0.225296       0.17757            0.443951  \n",
            "14         0.15415      0.121495                 NaN  \n"
          ]
        }
      ],
      "source": [
        "# Get the last row (target row) and upper rows (excluding the last row)\n",
        "target_row = normalized_df.iloc[-1].values.astype(float)\n",
        "upper_rows = normalized_df.iloc[:-1].values.astype(float)\n",
        "\n",
        "# Calculate Euclidean distances\n",
        "euclidean_distances = np.linalg.norm(upper_rows - target_row, axis=1)\n",
        "\n",
        "# Display Euclidean distances\n",
        "print(\"Euclidean Distances:\")\n",
        "print(euclidean_distances)\n",
        "\n",
        "# Add Euclidean distances as a new column to the DataFrame\n",
        "df['Euclidean Distance'] = np.append(euclidean_distances, np.nan)\n",
        "\n",
        "# Display the updated DataFrame\n",
        "print(\"Updated DataFrame:\")\n",
        "print(df)"
      ]
    },
    {
      "cell_type": "markdown",
      "source": [
        "##model evaluation"
      ],
      "metadata": {
        "id": "2Wl-oemQh8jN"
      }
    },
    {
      "cell_type": "code",
      "execution_count": 61,
      "metadata": {
        "id": "2iwk2jdSAoeG",
        "colab": {
          "base_uri": "https://localhost:8080/"
        },
        "outputId": "3ae7594f-3434-4451-b0ab-a4217112bab2"
      },
      "outputs": [
        {
          "output_type": "stream",
          "name": "stdout",
          "text": [
            "Sorted DataFrame:\n",
            "                            Material Coefficient of Thermal Expansion  \\\n",
            "14                   user_properties                         0.240838   \n",
            "2                          Nylon 6,6                         0.235602   \n",
            "13                              PMMA                         0.141361   \n",
            "11  Polybutylene terephthalate (PBT)                         0.212042   \n",
            "12  Polyethylene terephthalate (PET)                         0.094241   \n",
            "1                  Polycarbonate(PC)                         0.120419   \n",
            "0                              Epoxy                              0.0   \n",
            "4               Polyester(thermoset)                          0.21466   \n",
            "10          Polyvinyl chloride (PVC)                         0.188482   \n",
            "8                    Polystyrene(PS)                         0.109948   \n",
            "3                           Phenolic                         0.120419   \n",
            "7                  Polypropylene(PP)                         0.335079   \n",
            "6                               HDPE                         0.277487   \n",
            "5                               LDPE                              1.0   \n",
            "9      Polytetrafluoroethylene(PTFE)                         0.376963   \n",
            "\n",
            "   Tensile Strength(MPA) Thermal Conductivity (W/m-K) Specific Heat(J/kg-K)  \\\n",
            "14              0.939719                     0.361111               0.52862   \n",
            "2                    1.0                     0.333333              0.575758   \n",
            "13              0.542532                         0.25              0.434343   \n",
            "11               0.51507                     0.333333              0.619529   \n",
            "12              0.542532                     0.083333              0.239057   \n",
            "1               0.639652                     0.222222              0.016835   \n",
            "0               0.521768                     0.194444              0.158249   \n",
            "4                0.61219                     0.138889                   0.0   \n",
            "10              0.352981                     0.166667              0.296296   \n",
            "8               0.320831                     0.027778              0.239057   \n",
            "3               0.196249                     0.083333              0.579125   \n",
            "7               0.219022                          0.0              0.747475   \n",
            "6               0.089752                          1.0               0.69697   \n",
            "5                    0.0                     0.583333                   1.0   \n",
            "9               0.103818                     0.361111              0.158249   \n",
            "\n",
            "   Density(g/cm^3) Cost(Raw)$/kg  Euclidean Distance  \n",
            "14         0.15415      0.121495                 NaN  \n",
            "2         0.185771      0.149533            0.091874  \n",
            "13        0.225296       0.17757            0.443951  \n",
            "11        0.343874       0.28972            0.504466  \n",
            "12        0.351779      0.009346            0.626011  \n",
            "1         0.233202      0.158879            0.627217  \n",
            "0         0.280632      0.065421            0.645585  \n",
            "4         0.272727      0.140187            0.671708  \n",
            "10        0.422925           0.0            0.725111  \n",
            "8         0.114625      0.018692            0.779258  \n",
            "3         0.296443      0.018692            0.823271  \n",
            "7              0.0           0.0            0.863196  \n",
            "6         0.042688           0.0            1.089721  \n",
            "5          0.01581      0.009346            1.327666  \n",
            "9              1.0           1.0            1.530251  \n",
            "Selected Polymers:\n",
            "                            Material Coefficient of Thermal Expansion  \\\n",
            "14                   user_properties                         0.240838   \n",
            "2                          Nylon 6,6                         0.235602   \n",
            "13                              PMMA                         0.141361   \n",
            "11  Polybutylene terephthalate (PBT)                         0.212042   \n",
            "\n",
            "   Tensile Strength(MPA) Thermal Conductivity (W/m-K) Specific Heat(J/kg-K)  \\\n",
            "14              0.939719                     0.361111               0.52862   \n",
            "2                    1.0                     0.333333              0.575758   \n",
            "13              0.542532                         0.25              0.434343   \n",
            "11               0.51507                     0.333333              0.619529   \n",
            "\n",
            "   Density(g/cm^3) Cost(Raw)$/kg  Euclidean Distance  \n",
            "14         0.15415      0.121495                 NaN  \n",
            "2         0.185771      0.149533            0.091874  \n",
            "13        0.225296       0.17757            0.443951  \n",
            "11        0.343874       0.28972            0.504466  \n"
          ]
        }
      ],
      "source": [
        "# Sort the DataFrame by the last column, moving rows with 'nan' to the top\n",
        "sorted_df = df.sort_values(by=df.columns[-1], na_position='first')\n",
        "\n",
        "# Display the sorted DataFrame\n",
        "print(\"Sorted DataFrame:\")\n",
        "print(sorted_df)\n",
        "\n",
        "# Select only the top four rows\n",
        "top_four_df = sorted_df.head(4)\n",
        "\n",
        "# Display the top four rows\n",
        "print(\"Selected Polymers:\")\n",
        "print(top_four_df)"
      ]
    }
  ],
  "metadata": {
    "colab": {
      "provenance": []
    },
    "kernelspec": {
      "display_name": "Python 3",
      "name": "python3"
    },
    "language_info": {
      "name": "python"
    }
  },
  "nbformat": 4,
  "nbformat_minor": 0
}